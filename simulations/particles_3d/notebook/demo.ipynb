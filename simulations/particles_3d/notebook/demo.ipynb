from simulation.tick_engine import run_simulation
from simulation.clustering import get_cluster_colors, track_cluster_counts
import matplotlib.pyplot as plt
from matplotlib.animation import FuncAnimation
from IPython.display import HTML
import numpy as np

# Run
trajectory, energies, ranges = run_simulation(100, 500, dt=0.01, chaos_amp=0.1)

# Cluster count plot
cluster_counts = track_cluster_counts(trajectory)
plt.plot(cluster_counts)
plt.title("Cluster Count Over Time")
plt.xlabel("Tick")
plt.ylabel("Number of Clusters")
plt.show()

# Animation
trajectory_array = np.array(trajectory)
fig, ax = plt.subplots(figsize=(6,6))
scat = ax.scatter([], [], s=50, cmap='viridis')
ax.set_xlim(-2,2); ax.set_ylim(-2,2)

def update(frame):
    pos = trajectory_array[frame]
    colors, _ = get_cluster_colors(pos[:, :2])
    rgba = plt.get_cmap('viridis')(colors.flatten())
    scat.set_offsets(pos[:, :2])
    scat.set_facecolor(rgba)
    return scat,

ani = FuncAnimation(fig, update, frames=range(0, len(trajectory_array), 5), interval=100)
HTML(ani.to_html5_video())
