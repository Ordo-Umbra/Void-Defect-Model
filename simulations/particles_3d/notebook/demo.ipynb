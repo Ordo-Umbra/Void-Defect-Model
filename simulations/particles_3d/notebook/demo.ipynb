import numpy as np

def initialize_particles(n):
    positions = np.random.uniform(-2, 2, (n, 3))
    velocities = np.random.uniform(-0.2, 0.2, (n, 3))
    energies = np.random.uniform(1.0, 5.0, n)
    ranges  = np.random.uniform(0.5, 1.5, n)
    return positions, velocities, energies, ranges

def tick(positions, velocities, energies, ranges, dt=0.01, chaos_amp=0.05):
    new_pos = positions.copy()
    new_vel = velocities.copy()
    for i in range(len(positions)):
        f    = compute_force(i, positions, energies, ranges)
        chaos = np.random.uniform(-1, 1, 3) * chaos_amp
        new_vel[i] += dt * f + chaos
        new_pos[i] += dt * new_vel[i]
    return new_pos, new_vel

def run_simulation(n_particles=100, n_ticks=500, dt=0.01, chaos_amp=0.05):
    pos, vel, e, r = initialize_particles(n_particles)
    traj = [pos.copy()]
    for _ in range(n_ticks):
        pos, vel = tick(pos, vel, e, r, dt, chaos_amp)
        traj.append(pos.copy())
    return traj, e, r

import numpy as np

def gaussian_kernel(d, R):
    return np.exp(-2 * (R**2) * (d**2))

def compute_field(x, positions, energies, ranges):
    field = 0.0
    for i in range(len(positions)):
        d = np.linalg.norm(x - positions[i])
        field += energies[i] * gaussian_kernel(d, ranges[i])
    return field

def compute_force(i, positions, energies, ranges):
    ri = positions[i]
    force = np.zeros(3)
    for j in range(len(positions)):
        if i == j:
            continue
        rj = positions[j]
        d_vec = ri - rj
        d = np.linalg.norm(d_vec)
        if d == 0:
            continue
        grad = -4 * energies[j] * (ranges[j]**2) * d_vec \
               * np.exp(-2 * (ranges[j]**2) * (d**2))
        force += grad
    return force

import numpy as np
from sklearn.cluster import DBSCAN

def get_cluster_colors(positions, eps=0.3, min_samples=2):
    clustering = DBSCAN(eps=eps, min_samples=min_samples).fit(positions)
    labels = clustering.labels_
    unique = np.unique(labels)
    mapping = {lbl:i for i,lbl in enumerate(unique)}
    colors = np.array([mapping[lbl] for lbl in labels])
    return colors.astype(float)/max(1,colors.max()), labels

def track_cluster_counts(trajectory):
    counts = []
    for frame in trajectory:
        _, labels = get_cluster_colors(frame[:, :2])
        n_clusters = len(set(labels)) - (1 if -1 in labels else 0)
        counts.append(n_clusters)
    return counts

# Run the sim
trajectory, energies, ranges = run_simulation(100, 500, dt=0.01, chaos_amp=0.1)

# Plot cluster count
cluster_counts = track_cluster_counts(trajectory)
import matplotlib.pyplot as plt
plt.plot(cluster_counts); plt.title("Cluster Count Over Time"); plt.xlabel("Tick"); plt.ylabel("Number of Clusters"); plt.show()

# Animate
from matplotlib.animation import FuncAnimation
from IPython.display import HTML

traj = np.array(trajectory)
fig, ax = plt.subplots(figsize=(6,6))
scat = ax.scatter([], [], s=50, cmap='viridis')
ax.set_xlim(-2,2); ax.set_ylim(-2,2)

def update(frame):
    pos = traj[frame]
    colors, _ = get_cluster_colors(pos[:, :2])
    rgba = plt.get_cmap('viridis')(colors.flatten())
    scat.set_offsets(pos[:, :2])
    scat.set_facecolor(rgba)
    return scat,

ani = FuncAnimation(fig, update, frames=range(0, len(traj), 5), interval=100)
HTML(ani.to_html5_video())
