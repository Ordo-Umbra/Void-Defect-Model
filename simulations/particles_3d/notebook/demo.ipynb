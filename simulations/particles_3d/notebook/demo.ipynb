<script src="https://gist.github.com/Ordo-Umbra/2b613fc347529a76dcc95b5ae50ef340.js"></script>
